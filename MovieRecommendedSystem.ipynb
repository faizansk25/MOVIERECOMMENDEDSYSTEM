{
  "nbformat": 4,
  "nbformat_minor": 0,
  "metadata": {
    "colab": {
      "provenance": [],
      "include_colab_link": true
    },
    "kernelspec": {
      "name": "python3",
      "display_name": "Python 3"
    },
    "language_info": {
      "name": "python"
    }
  },
  "cells": [
    {
      "cell_type": "markdown",
      "metadata": {
        "id": "view-in-github",
        "colab_type": "text"
      },
      "source": [
        "<a href=\"https://colab.research.google.com/github/faizansk25/MOVIERECOMMENDEDSYSTEM/blob/main/MovieRecommendedSystem.ipynb\" target=\"_parent\"><img src=\"https://colab.research.google.com/assets/colab-badge.svg\" alt=\"Open In Colab\"/></a>"
      ]
    },
    {
      "cell_type": "markdown",
      "source": [
        "# 📽️🎬 **Movies Recommendation System**\n",
        "---\n",
        "\n",
        "## 🔍 **Project Overview**\n",
        "This project is focused on building a **Movies Recommendation System** using various Natural Language Processing (NLP) techniques. The goal is to recommend movies based on user preferences using **TF-IDF Vectorization** and **Cosine Similarity** algorithms.\n",
        "\n",
        "---\n",
        "\n",
        "### 📑 **Project Details**\n",
        "- **Project**: Movies Recommendation System\n",
        "- **Developed by**: **Faizan Muktar Shaikh**\n",
        "- **Internship at**: AvaIntern\n",
        "- **Platform**: Google Colab\n",
        "\n",
        "---\n",
        "\n",
        "## 🛠️ **Libraries and Tools Used**\n",
        "- **Python**: Programming Language\n",
        "- **NumPy & Pandas**: Data Manipulation\n",
        "- **Difflib**: String Matching\n",
        "- **Scikit-learn**: TF-IDF Vectorizer & Cosine Similarity\n",
        "- **Google Colab**: Cloud-based development environment\n",
        "\n",
        "---\n",
        "\n",
        "## 📚 **Theoretical Concepts Used**\n",
        "1. **TF-IDF (Term Frequency-Inverse Document Frequency)**:\n",
        "   - Evaluates the importance of words in a document relative to a corpus.\n",
        "2. **Cosine Similarity**:\n",
        "   - Measures similarity between text vectors to recommend similar movies.\n",
        "3. **Pandas & NumPy**:\n",
        "   - Efficiently handle and preprocess the dataset.\n",
        "\n",
        "---\n",
        "\n",
        "## 🚀 **Project Objectives**\n",
        "1. **Load and preprocess** a dataset of movies.\n",
        "2. **Extract features** from movie descriptions using TF-IDF.\n",
        "3. **Compute similarities** between movies using Cosine Similarity.\n",
        "4. **Recommend** movies based on user input or movie titles.\n",
        "\n",
        "---\n",
        "\n",
        "## 📊 **Dataset**\n",
        "- The dataset used includes a collection of movies, their genres, descriptions, and ratings.\n",
        "- Data source: [Provide dataset link if applicable]\n",
        "\n",
        "---\n",
        "\n",
        "## 🧑‍💻 **Acknowledgements**\n",
        "Special thanks to **AvaIntern** for providing this internship opportunity and support throughout the project.\n",
        "\n",
        "---\n",
        "\n",
        "## 👨‍🏫 **How to Run the Code**\n",
        "1. Open this notebook in **Google Colab**.\n",
        "2. Install the necessary libraries (if not pre-installed).\n",
        "3. Follow along with the code and markdown cells to understand the implementation.\n"
      ],
      "metadata": {
        "id": "tDxXw-nunNR3"
      }
    },
    {
      "cell_type": "code",
      "source": [
        "import numpy as np\n"
      ],
      "metadata": {
        "id": "7LZxOHPZj0a4"
      },
      "execution_count": null,
      "outputs": []
    },
    {
      "cell_type": "markdown",
      "source": [
        "NumPy is a powerful library for numerical computing in Python. It provides support for multi-dimensional arrays, matrices, and mathematical functions to operate on these arrays efficiently.\n",
        "\n",
        "NumPy is commonly used for handling large datasets, performing linear algebra, statistical analysis, and other numerical computations efficiently."
      ],
      "metadata": {
        "id": "QIHcQmack1nf"
      }
    },
    {
      "cell_type": "code",
      "source": [
        "import pandas as pd"
      ],
      "metadata": {
        "id": "NjPdYy_gm-fV"
      },
      "execution_count": null,
      "outputs": []
    },
    {
      "cell_type": "markdown",
      "source": [
        "Pandas is a popular data analysis library that provides data structures like DataFrames and Series, which are essential for handling and analyzing structured data.\n",
        "It's particularly useful for data manipulation, cleaning, and analysis. Pandas allows easy reading, filtering, grouping, and joining of data from various sources like CSV, Excel files, and SQL databases."
      ],
      "metadata": {
        "id": "RmHMBQEalJE_"
      }
    },
    {
      "cell_type": "code",
      "source": [
        "import difflib"
      ],
      "metadata": {
        "id": "Ww6Jik0bnCSH"
      },
      "execution_count": null,
      "outputs": []
    },
    {
      "cell_type": "markdown",
      "source": [
        " Difflib is a module used for comparing sequences, such as strings or lists, to identify differences. It can be used to find the closest matches, which is helpful in text processing and string matching.\n",
        " Useful for applications like spell-checking, data deduplication, or matching similar text entries."
      ],
      "metadata": {
        "id": "TDXHbiBWlQye"
      }
    },
    {
      "cell_type": "code",
      "source": [
        "from sklearn.feature_extraction.text import TfidfVectorizer"
      ],
      "metadata": {
        "id": "0eTlyCytnDIU"
      },
      "execution_count": null,
      "outputs": []
    },
    {
      "cell_type": "markdown",
      "source": [
        "This imports the TfidfVectorizer class from the sklearn.feature_extraction.text module.\n",
        "TF-IDF (Term Frequency-Inverse Document Frequency) is a statistical method used to evaluate how important a word is to a document in a collection. It combines:\n",
        "\n",
        "**Term Frequency (TF):** Measures how frequently a term appears in a document.\n",
        "\n",
        "**Inverse Document Frequency (IDF):** Measures how common or rare a word is across the entire collection.\n",
        "\n",
        "TF-IDF helps convert raw text data into numerical vectors, which can then be used as input for machine learning models or similarity calculations. It emphasizes words that are more meaningful to specific documents."
      ],
      "metadata": {
        "id": "5AD1llH2lciP"
      }
    },
    {
      "cell_type": "code",
      "source": [
        "from sklearn.metrics.pairwise import cosine_similarity"
      ],
      "metadata": {
        "id": "hs0xzegsnGxP"
      },
      "execution_count": null,
      "outputs": []
    },
    {
      "cell_type": "markdown",
      "source": [
        "This imports the ***cosine_similarity*** function **from the sklearn.metrics.pairwise** module.\n",
        "Cosine Similarity is a measure of similarity between two non-zero vectors. It calculates the cosine of the angle between the vectors, resulting in a value between -1 (completely opposite) and +1 (completely similar).\n",
        "The formula is:\n",
        "![image.png](data:image/png;base64,iVBORw0KGgoAAAANSUhEUgAAAhkAAABUCAYAAAAvQyUQAAAAAXNSR0IArs4c6QAAAARnQU1BAACxjwv8YQUAAAAJcEhZcwAAEnQAABJ0Ad5mH3gAABXSSURBVHhe7Z0HkBRVF4UfmLPrmktUFDFgwiwmMKOYEHVRVMyCgoIJM6ZVtERU1DKUlpgRywRaYgBREQFFzIgBs2ICc4T//y791qZ3emYWumd7Z85XNcVsz+x0z5th33n3nntfs5YtW852QgghhBAJ0zz4VwghhBAiUSQyhBBCCJEKEhlCCCGESAWJDCGEEEKkgkSGEEIIIVJBIkMIIYQQqSCRIYQQQohUkMgQQgghRCpIZAghhBAiFSQyhBBCCJEKEhlCCCGESAWJDCGEEEKkgkSGEEIIIVJBIkMIIeaRQYMGuSFDhrjFF188OCKECKOt3oUQYh6oqalxPXv2dD///LO78MIL3cSJE4NHkuWcc85x+++/v2vWrFlwpD6zZ8+263jhhRfclVde6X777bfgESEaF0UyhBCigay++upuv/32c4sttphr3ry5W2CBBYJHkqe2ttZttdVWbuTIkfbz559/7g488EC35ZZb1t2uvfZaEyF77bWXGzBggD1PiCwgkSGEEA2kc+fOrkWLFm7WrFmWKqmurg4eSQ+EDXz00Ufu008/tfuee+65x02aNMmExrrrrut22GGH4BEhGheJDCGEaABbbLGF69Chg5swYYL7+++/bWJfcMEFg0fTgXMut9xydr4PPvggOJobIiuLLLJI8JMQjYtEhhBCNIBDDz3U/A/PP/+8+/fff01grLLKKsGj6bDBBhu4ZZZZxrwWU6dODY7+x0YbbeTWWWcduz9t2jQ3duxYuy9EYyORIYQQRYIBk3TE8OHD3S+//FIXyVh00UWDZ6TDGmus4RZeeGH3448/1hMQK664ouvRo4dbeeWV3WeffebuuOMOGT9FZpDIEEKIIsB7ccABB7gpU6a4+++/382YMcP9+eefFslYaqmlgmelQ+vWrU3MfPfdd659+/Zm8OTWr18/d/vtt1sk4+mnn3Ynnniie+mll4LfEqLxkcgQQogiOOqoo8zg+dhjj9nP//zzj/0LVJmkhfdjkJohWtGtW7e6W9u2bd3SSy/tvvzyS/fGG2+46dOnB78lRDaQyBBCiAIQKdhll13cmDFj3OjRo+3Y66+/bikTqKqqsn/zQSRk4MCB7plnnnFnnnlmcLQw3o/BuW644QbzhPjbIYccYuWrpEx69eplfTuEyBISGUIIUYCDDz7YzJ2dOnUyw6e/+bLSYtIl22+/vdt0001NMGy++ebB0cLk82PAQw89ZL0zqCjZaaed1H1UZAqJDCGEyMPuu+/uNttsMzdu3Dg3atQoi2T4G5M7IAIK8eKLL1r0A7Hw8ssvB0cL4/0Y9MaIM3T6EloMqGuuuabdFyILSGQIIUQMRAWIYnz11Vfu3HPPtfbh4dvXX39tz2NyJ62RDwRC3759TbSw50kxbL311m755Zc3/0e0AZdnu+22M88GfPHFF+6dd96x+0JkAYkMIYSI4bDDDrM0ydChQ3NGEb755hv7l0hCGmkKymVJxfz666/u7bffDo7+B+fEm4EnhMoTrlOILCGRIYQQETBSHnfcce6ggw4yw2WuLptM8L4/xpJLLulWW201u58UvP6GG25oXguaf73//vvBI3MeY/+S2267zfYu+eGHH9xNN91UZ0oVIitoF9YmBH/49txzT/vDQ8kc+WCc6q+++qo9ftJJJ7mPP/7YPfHEE/ZzuYJpbtddd7XVGxMAuW7+uLKig3vvvdf+bSz4nDD4sbql+6LC100LxEX37t3n8lnMnDnTXXHFFfb/DeJ2RsVvcckll9huqPMK353LLrvMvkf5YOfVn376ybwi9MpgTxMhsoZERhOAPzannHKK23HHHd1CCy1k+eHff//ddn7kMcxkrLS6dOliTYJuvvnm4DeTgVXT+eef79Zee233yCOPNOokfvrpp7t9993XQsPvvvuuhbK5rvfee89WkhjqLr30Unsuz+vatavlza+//vrE/wivtdZadj30KWCDqieffLLeBPXoo4/WXU/SHHPMMa5jx47urbfe0vbeQohMonRJxqE+/5prrrGVOw13+vTpY10HfY1879693UorrWSNedLaFIkdHbfZZhv3f0Hq9tlnn+Bo6TnyyCNte+0333zT3i9GvKOPPtpWlQiM6Mpvt912c61atbJtsulxkDS85iabbGJ5c7ovwq233mrnLUXXRb4TlDdSthjddRMzIMKjkBlRCCHSRCIjw1CDT9tgStg+/PBDd/bZZ9crfWPCveWWWyxnmxZEDNgTgRbKbCfdWDCpEiJ+6qmn5lq1M6E/+OCDdn1h6IBIxIfITxrXzWvSYZGxf+2114Kjc6oIiLSkDRGMv/76y74bfEZhEBdsmEUUSgghGguJjAxTU1NjqQAmSloZx4X78SOMHz/eJuA0oHTuiCOOsGZCrI4bA/LUvkwvF88995z79ttvg5/mQFSBFBNppIkTJwZHk4PXJKq0884726ZUpYa8PRGLY489tl55I+2ni+ndIIQQaSKRkVGIYhDmx3fBStzvlxAHq/Y//vgj+Kn8YMVOrwDc/KRuojDJ+p4FlQ57XdBfQQghGhsZPzMKDYBOPvlkqyLBPc6+BPlgYsGjQGUJK3gPPgZ8FCussIJN0kRDcKKH0y7bbruteRt8p0DK4Ug9EI7HSMp14Hlo3ry5heY5D5x33nl1OX+iLaRtSGkQdcAfQsndnXfeaSmdMDzn8MMPr2vJTAMh0h2YJPOBN4VoCu8DoytOf1z8uSI8jB/vG5E2a9YsN2TIEDdy5EirwOH98l44jmETAycRAdo9I1Z47uTJk21DLCIhGDs5zjX66gK8Mmyvveyyy9o5GM9wgyXGBv9I1PjJLpm8fz4PoBqB3TPD23Pj78Bvg8mX6gXeIxVF/A69Em688UYrrfTvg7HH2Mp4c7xz585u1VVXtcqDV155xbYjpzpi2LBh5qvhPfkOkUDKhz0xGC++Rx4+a8ZCCCHmFUUyMgpVE0wy4Bv+5MOH7r3AIBfPpEwFAn4BJh82ZWLSuvzyy60KAtg2msoRmv3QeAjTIhOp3y+B+v8llljCUhWkbsIbQTH5ch7MlTwf/wjPZ8JEoCAIzjjjjLl8AZyX8yFCqMzAtMnjVM9Q958PJkkmRCbI9dZbz8QPlS54NPr37z+X8RPBwDkQTi1atKibVDnO+ZhsuWaERJs2bUxM0TIa8YBAQDDQSprmRsOHD7fzMX6MF/DeiapgukWk8L4LQdUJhlWugW6RfCZ4XTg2YMCAunFCWCJcEHZcP58rO3ByDgQI6RFeg8+Fc5Ma4f3xXKJfPurD++czw5vBv/w+3SP5mc+G1yLiwTgAr8NxKlYQG0n3fRBCVB4SGRmFLn/h1WZDYQJmpUsPjdraWpucuc+OjaxwWSnT3pjqCM41ZcqUum2iESpTp061+/R4YPWP54GVfxgmXRoAIVCYdDEfYk4lmsIKnlU6E7yvfGCCZmJlAkSIcD1EAEgFIWjoO5APDJ6DBw+2idn7T5iMEUB77723CQMmXeA9IDyiPg3G4uKLL7ZoDSKBsUDscA1ECEhNIVYYk4suusg2n2KVTySDY4wXcC1EfygfLhYmea4Xocdny3gT6eFaeF1focI5ER4INZ6HyEQw8l64Xnpv8D64Lr8LKPjPirFFaBC9uOqqq6wSieM8zmvjryF6wueJQZVxAsYMsUrqjc+Jc8TBd+vhhx+ea7OwYm80kBJCVAYSGRmFigUm43mBFAbhfyYR+keEIXVBegJRQNgcmMhYLZ966ql14XImXdI0HiYsVtNRvv/+ewvz4wcJP5/ncn7C+UysgJeCFTiTarhZEWF5XoNVdiEvAb0oSAcQFSB9gbAhXQBEVBBXHibVXD4Vv0U3aQSEjk9T8C/XzI3KkbCZks+DcUJohEFIFQsCCUFDxMenXZjUuRZeu7q62o5F+eSTTywlhDgg1eL7lMyYMaNeRU2xcF7eEykrL26I4jCGEyZMqBuTOBCHfGcon23ojUiMEKIykCcjo9BIigmpWE8GUG1AaoRJ96yzzrJ0CyvlaHMuVuy0IsbXgL8CzwAhdA+/z4qTtIqfbE444QTzdzBB9+zZ044BooQVP6t0Qv6+22iu4/68iCdW2h5W9kQyOC9dFUl/NAQiD6zGOSerfVIRTKLwwAMPWBogfG3AcaIs0fGJO+6vPeqxiPNexB0nJULEhooUJnhSGrx3IjPFntPjxxjC7xnRwOePeAkfj4KHpm3bttYxlf4rCDR6f1xwwQX1fDSNAWJHNC34vgoRRpGMjMJk7tMXTKJhX0MumHDWX399y9MXC1EGVshEMEaMGGHnQwAgbPbYY4+cE1sSECEIr2yJqBDl6NChQ6zA4P0RnvdekjBcNxMxK3NETbQpV1YguoSREsFI5OLqq6+29x+OmJSSsWPHWiQEvwZRjI033tiMpVkQGMCEpVvTugkRRSIjozDxsMJk0scESmQjH0QiWA2TIiBKQCqgEKQtCMGzgiUSgK+BlSwrXHwWdLKkUiQpfGoBcVNINOUi3++RtiE1QqojV1qnseG6iQYRvSDaRDQol6BCiHhfSZLcdddddv4w+Gwo+6VqhRQUJlaqUYoBcURKLeq3KOYmT4YQlYNERoZhsseASWQBkRE3+TCBsXEa5k1C4+T7iVCwWo6u6pnkEC2IF1at/IwPgskNSI9gAPReDl4jKQh/E23AqBltg40JlXJSJq84uJZ27drlHAfGiPQQYiPa/TILkJZgEmfcMVb6NBTjH26aRYkrFT5JwvcjupEXIGT5viDeOCem0meffTZ4ND+IBb6TPhrVkJs8GUJUDhIZGYaJiAgD/Q8IaeORwNUfBhFBBQETcHiFSH4ffwJpCP6wezDr8TuspumXAfR6II/vowRM4kyIRB6IjICfCKnICEcT8C9ghmQSw1/g8WWY4eNsrjZmzBhL6WDcJEQPXA8+BVbVTF75oPSUChb/u+BFFtdB51OffuB1uQYmUQynHgSO/zk8wfvnQ/g4r5/rOPifo4ZQfxwzK79PRQwCi9cJl4bSmwLDJ+PENTFWRGPyndPjx5jHMfJ6MOkS1WGcEZR8B3gOBtsoGFzxbvA6RDEKGT4bA4QY/qTwZw5xx5OA/ye5UnNxx0sJ5+c6osQdTwLGmLFmzMOk+RmI8kDGzyYAk194F1ZW60wkTJ6EuplUBw4cWC+XjiAhLI9AoQySiYbJkMoOSlnxMmBQJEVCeoSJjtflNZl4iKRwDBNhWFiQikHEYF6MRhWIoHB90fws5/ImREyGnTp1MsGCEMJHgQmVluW5GmsBngwEF5Ed+jowJrwnPAVMzvTvQKCwzTYTpTdNhsl3bXhgiKaE4XWoPolGXTiOmCH643uZQNxxP16UxxKp4Fq5z9iS2qKclDJTRAGijigSptHwa0DYAIpBNTr2RIq8KZf+IwhHxAZjxGO+VDUKnzPmWEzAWfFjhOGzp98KYxg278YdLwaiMPSQoQeK7y0Thv8XNDQLm5wh7ngp4bvNZolRz1Tc8STgu4TxmwVN2Eg8P5+BqAwkMpoQTKyYI/FKsPJkUsO3UWjHT0paadREqD5sKAXfsZPJjcmRCZvH4yoSkgLRwgoboUHfBx8xiYMVE2ZUwvmIBe4jFpiIGQdSRAiCpkCucUYwEI3g80kKXhOvDsIq3+eJyOBamECzSNIig+/eddddZ71J4ip3yk1k4K2i+oy/IfngbwT/HzEoUy7ukcgQ84rSJU0IJgJWsDSTIipAWWYxW4ozgfMHgLbaYYEBPOYneF6L56UtMABhgPGQ8xUSGEC0hhWnj3RgmuSPqR+HpiIwINc4876SFBjAazJO4fMgPIgYERkDxBqRq3DfknKHlvZeXPuUVLnDdwtjd9++fS0Nipi4++67Taj7Gw36eB6RT1IghczmQhSDRIYQFQQGT99SnIgKIoOUVUN7kzRVEFk0NCNVBXiPKgk8TURySI9i/A6DKKUjLAZgomraZE8kgUSGEBUEXhCanhFJwpPApEOou1IgigE+IubFRqXg9yQimkGflHyQyhRifpHIEKKCoLcFTcCoKsFgSnfPYlJu5QDGXjaQI22IwRkop04LjNcIuEJpB/rUsItuKWjdurUJK9KPCM0oeCwwhyNE1XFVJIFEhhAVBn4QfD14M7JYTZIWlEkTyaEfC5MosKqPlmUmBfu7UH7eo0eP2B2G2WQQr8To0aODI+mBgEBUUe1ENVeUmpoaE2I0syN9xs7EQswvEhlCiLKHygjExNChQ20F77vPIjIKVVzMD1R0UAF2/PHH1xMaCAyqxehvgxcibTC7UtVESTMiC18ON8qn2U2ZiAqb7mGk5rqFSAKJDCFEWYPZs2PHjtZplVQJ0PCMNvyUQNPULE2YsGlCFxYapRYY4P0YvHciFt26dbMbPWt4DPFB1+BKim6J9JHIEEKUNV26dLHJ9b777guOzNnrhjJOOqxGu7WmQVhocB+BgV+jVAIDvB+DMlWiF+EbY4TAoPKG0nCEmRBJIJEhhChbKNNt3769laoOHjy4bpM2VvC04qdPBq3fSwHigo61XA++mFJ6Hgr5MUghjRs3zqIZNO5Lev8cUblIZAghyhbSE7RWpyMs5kp/Y0KlpTut+dNOl3ho204HVs6PFwKjZanwfgzEBEInF0R1iHQgvHiuEEkgkSGEKEuYxNu0aWNmTzrDhm+IDlb1pZpQERjsPUQLd+6PGjXKzKhxVSdJQz8URASb9FHxkgt8GXhUMIVmcSdj0TSRyBBClB1UkmBopKtlrrQEngxW9UQy8GukSVhgeA8G5cMIDba9L4XQaNWqlf1LEzK/S3EYrqFdu3Z2n74pjz/+uN0XYn6RyBBClBX4MPr162cr81zb2wNts/2+JWx4Ft5lOEkQGLRxDwsMT6mEBpUkeFIwukYFBmkUIju9e/e2tBECQ+WrIkkkMoQQZQMVJIMGDbINv2iL3b17d+tw6mE30hEjRlgviOrqajvGczGDJj25ci7SFPSgiKsiQWhwPZhBk4bt/sePH2/vq6qqyoyuGF7p5OlvVLggQti9lXHq06dPzk6gQswrEhlCiLKha9euc+0syu20004LHv1vN9Loc7gRdUgSzkWUglbu+aDqpVevXsFPyVFbW2tt1HO91/CNyA/jNmzYsOA3hUgOiQwhhBBCpIJEhhBCCCFSQSJDCCGEEKkgkSGEEEKIVFigqqqqf3BfCCEyB1URVIqwcdf06dODo/HHk4AGXfTSmDx5cnBkDnHHSwlVMdOmTavXVCvueBIwzjBp0iQ3c+ZMuw9pfgaiPGjWsmXL2cF9IYQQQojEULpECCGEEKkgkSGEEEKIVJDIEEIIIUQqSGQIIYQQIhUkMoQQQgiRChIZQgghhEgFiQwhhBBCpIJEhhBCCCFSQSJDCCGEEKkgkSGEEEKIVJDIEEIIIUQqSGQIIYQQIhUkMoQQQgiRChIZQgghhEgFiQwhhBBCpIJEhhBCCCFSQSJDCCGEECng3P8Ayzt5Rp68FkIAAAAASUVORK5CYII=)\n",
        "\n",
        "where\n",
        "𝐴\n",
        "A and\n",
        "𝐵\n",
        "B are vectors, and\n",
        "⋅\n",
        "⋅ represents the dot product, while\n",
        "∣\n",
        "∣\n",
        "𝐴\n",
        "∣\n",
        "∣\n",
        "∣∣A∣∣ and\n",
        "∣\n",
        "∣\n",
        "𝐵\n",
        "∣\n",
        "∣\n",
        "∣∣B∣∣ are their magnitudes.\n",
        "\n",
        "Commonly used in text analysis, information retrieval, and recommendation systems to measure similarity between documents or text embeddings."
      ],
      "metadata": {
        "id": "5qeIEZnEmDx1"
      }
    },
    {
      "cell_type": "code",
      "source": [
        "# Load the data from the CSV file into a pandas DataFrame\n",
        "movies_data = pd.read_csv('/content/movies.csv')"
      ],
      "metadata": {
        "id": "rXr8ZK1rj7LR"
      },
      "execution_count": null,
      "outputs": []
    },
    {
      "cell_type": "code",
      "source": [
        "# Display the first 5 rows of the DataFrame\n",
        "print(movies_data.head())"
      ],
      "metadata": {
        "colab": {
          "base_uri": "https://localhost:8080/"
        },
        "id": "L8HBPJD6j7z4",
        "outputId": "d197b770-0dc9-4f46-db9f-c4319012b026"
      },
      "execution_count": null,
      "outputs": [
        {
          "output_type": "stream",
          "name": "stdout",
          "text": [
            "   index     budget                                    genres  \\\n",
            "0      0  237000000  Action Adventure Fantasy Science Fiction   \n",
            "1      1  300000000                  Adventure Fantasy Action   \n",
            "2      2  245000000                    Action Adventure Crime   \n",
            "3      3  250000000               Action Crime Drama Thriller   \n",
            "4      4  260000000          Action Adventure Science Fiction   \n",
            "\n",
            "                                       homepage      id  \\\n",
            "0                   http://www.avatarmovie.com/   19995   \n",
            "1  http://disney.go.com/disneypictures/pirates/     285   \n",
            "2   http://www.sonypictures.com/movies/spectre/  206647   \n",
            "3            http://www.thedarkknightrises.com/   49026   \n",
            "4          http://movies.disney.com/john-carter   49529   \n",
            "\n",
            "                                            keywords original_language  \\\n",
            "0  culture clash future space war space colony so...                en   \n",
            "1  ocean drug abuse exotic island east india trad...                en   \n",
            "2         spy based on novel secret agent sequel mi6                en   \n",
            "3  dc comics crime fighter terrorist secret ident...                en   \n",
            "4  based on novel mars medallion space travel pri...                en   \n",
            "\n",
            "                             original_title  \\\n",
            "0                                    Avatar   \n",
            "1  Pirates of the Caribbean: At World's End   \n",
            "2                                   Spectre   \n",
            "3                     The Dark Knight Rises   \n",
            "4                               John Carter   \n",
            "\n",
            "                                            overview  popularity  ... runtime  \\\n",
            "0  In the 22nd century, a paraplegic Marine is di...  150.437577  ...   162.0   \n",
            "1  Captain Barbossa, long believed to be dead, ha...  139.082615  ...   169.0   \n",
            "2  A cryptic message from Bond’s past sends him o...  107.376788  ...   148.0   \n",
            "3  Following the death of District Attorney Harve...  112.312950  ...   165.0   \n",
            "4  John Carter is a war-weary, former military ca...   43.926995  ...   132.0   \n",
            "\n",
            "                                    spoken_languages    status  \\\n",
            "0  [{\"iso_639_1\": \"en\", \"name\": \"English\"}, {\"iso...  Released   \n",
            "1           [{\"iso_639_1\": \"en\", \"name\": \"English\"}]  Released   \n",
            "2  [{\"iso_639_1\": \"fr\", \"name\": \"Fran\\u00e7ais\"},...  Released   \n",
            "3           [{\"iso_639_1\": \"en\", \"name\": \"English\"}]  Released   \n",
            "4           [{\"iso_639_1\": \"en\", \"name\": \"English\"}]  Released   \n",
            "\n",
            "                                          tagline  \\\n",
            "0                     Enter the World of Pandora.   \n",
            "1  At the end of the world, the adventure begins.   \n",
            "2                           A Plan No One Escapes   \n",
            "3                                 The Legend Ends   \n",
            "4            Lost in our world, found in another.   \n",
            "\n",
            "                                      title vote_average vote_count  \\\n",
            "0                                    Avatar          7.2      11800   \n",
            "1  Pirates of the Caribbean: At World's End          6.9       4500   \n",
            "2                                   Spectre          6.3       4466   \n",
            "3                     The Dark Knight Rises          7.6       9106   \n",
            "4                               John Carter          6.1       2124   \n",
            "\n",
            "                                                cast  \\\n",
            "0  Sam Worthington Zoe Saldana Sigourney Weaver S...   \n",
            "1  Johnny Depp Orlando Bloom Keira Knightley Stel...   \n",
            "2  Daniel Craig Christoph Waltz L\\u00e9a Seydoux ...   \n",
            "3  Christian Bale Michael Caine Gary Oldman Anne ...   \n",
            "4  Taylor Kitsch Lynn Collins Samantha Morton Wil...   \n",
            "\n",
            "                                                crew           director  \n",
            "0  [{'name': 'Stephen E. Rivkin', 'gender': 0, 'd...      James Cameron  \n",
            "1  [{'name': 'Dariusz Wolski', 'gender': 2, 'depa...     Gore Verbinski  \n",
            "2  [{'name': 'Thomas Newman', 'gender': 2, 'depar...         Sam Mendes  \n",
            "3  [{'name': 'Hans Zimmer', 'gender': 2, 'departm...  Christopher Nolan  \n",
            "4  [{'name': 'Andrew Stanton', 'gender': 2, 'depa...     Andrew Stanton  \n",
            "\n",
            "[5 rows x 24 columns]\n"
          ]
        }
      ]
    },
    {
      "cell_type": "code",
      "source": [
        "# Check the number of rows and columns in the DataFrame\n",
        "print(f\"Shape of the dataset: {movies_data.shape}\")"
      ],
      "metadata": {
        "colab": {
          "base_uri": "https://localhost:8080/"
        },
        "id": "xve86U4Yj_SI",
        "outputId": "7ad25734-97a2-4723-8e18-401db9f3250c"
      },
      "execution_count": null,
      "outputs": [
        {
          "output_type": "stream",
          "name": "stdout",
          "text": [
            "Shape of the dataset: (4803, 24)\n"
          ]
        }
      ]
    },
    {
      "cell_type": "code",
      "source": [
        "# Select the relevant features for recommendations\n",
        "selected_features = ['genres', 'keywords', 'tagline', 'cast', 'director']\n",
        "print(\"Selected features:\", selected_features)\n"
      ],
      "metadata": {
        "colab": {
          "base_uri": "https://localhost:8080/"
        },
        "id": "U9-OJtaskD9A",
        "outputId": "57b5c227-e57f-4d97-c12e-9f7383a7c8ad"
      },
      "execution_count": null,
      "outputs": [
        {
          "output_type": "stream",
          "name": "stdout",
          "text": [
            "Selected features: ['genres', 'keywords', 'tagline', 'cast', 'director']\n"
          ]
        }
      ]
    },
    {
      "cell_type": "code",
      "source": [
        "\n",
        "# Replace null values with empty strings\n",
        "for feature in selected_features:\n",
        "    movies_data[feature] = movies_data[feature].fillna('')"
      ],
      "metadata": {
        "id": "SNKCUTMYkIBI"
      },
      "execution_count": null,
      "outputs": []
    },
    {
      "cell_type": "code",
      "source": [
        "# Combine all the selected features into a single string\n",
        "combined_features = (\n",
        "    movies_data['genres'] + ' ' +\n",
        "    movies_data['keywords'] + ' ' +\n",
        "    movies_data['tagline'] + ' ' +\n",
        "    movies_data['cast'] + ' ' +\n",
        "    movies_data['director']\n",
        ")"
      ],
      "metadata": {
        "id": "bz1Vty0dkLVn"
      },
      "execution_count": null,
      "outputs": []
    },
    {
      "cell_type": "code",
      "source": [
        "# Convert the text data into feature vectors\n",
        "vectorizer = TfidfVectorizer()\n",
        "feature_vectors = vectorizer.fit_transform(combined_features)"
      ],
      "metadata": {
        "id": "tUjyeR9EkOBw"
      },
      "execution_count": null,
      "outputs": []
    },
    {
      "cell_type": "code",
      "source": [
        "# Calculate the cosine similarity between feature vectors\n",
        "similarity = cosine_similarity(feature_vectors)\n"
      ],
      "metadata": {
        "id": "d-So_INxkRJf"
      },
      "execution_count": null,
      "outputs": []
    },
    {
      "cell_type": "code",
      "source": [
        "\n",
        "# Function to get movie recommendations\n",
        "def get_movie_recommendations(movie_name, num_recommendations=10):\n",
        "    # Create a list of all movie titles in the dataset\n",
        "    list_of_all_titles = movies_data['title'].tolist()\n",
        "\n",
        "    # Find the closest match for the input movie name\n",
        "    find_close_match = difflib.get_close_matches(movie_name, list_of_all_titles, n=1, cutoff=0.6)\n",
        "\n",
        "    # Handle cases where no match is found\n",
        "    if not find_close_match:\n",
        "        print(f\"No close match found for '{movie_name}'. Please try again with a different title.\")\n",
        "        return\n",
        "\n",
        "    # Get the best match and its index\n",
        "    close_match = find_close_match[0]\n",
        "    index_of_the_movie = movies_data[movies_data.title == close_match].index[0]\n",
        "\n",
        "    # Get similarity scores for all movies\n",
        "    similarity_score = list(enumerate(similarity[index_of_the_movie]))\n",
        "\n",
        "    # Sort movies based on similarity scores in descending order\n",
        "    sorted_similar_movies = sorted(similarity_score, key=lambda x: x[1], reverse=True)\n",
        "\n",
        "    print(f\"\\nMovies suggested for you based on '{close_match}':\\n\")\n",
        "\n",
        "    i = 0\n",
        "    for movie in sorted_similar_movies:\n",
        "        index = movie[0]\n",
        "        title_from_index = movies_data.iloc[index]['title']\n",
        "\n",
        "        # Skip recommending the input movie itself\n",
        "        if index != index_of_the_movie and i < num_recommendations:\n",
        "            print(f\"{i + 1}. {title_from_index}\")\n",
        "            i += 1\n",
        "        if i >= num_recommendations:\n",
        "            break\n"
      ],
      "metadata": {
        "id": "wY44OBVJkTzn"
      },
      "execution_count": null,
      "outputs": []
    },
    {
      "cell_type": "code",
      "source": [
        "# Get the movie name from the user and display recommendations\n",
        "movie_name = input('Enter your favourite movie name: ')\n",
        "get_movie_recommendations(movie_name, num_recommendations=10)\n"
      ],
      "metadata": {
        "colab": {
          "base_uri": "https://localhost:8080/"
        },
        "id": "VKuGhKqgkahY",
        "outputId": "777c87ee-c7f5-414a-ba5e-61a54357deb1"
      },
      "execution_count": null,
      "outputs": [
        {
          "output_type": "stream",
          "name": "stdout",
          "text": [
            "Enter your favourite movie name: Ironman\n",
            "\n",
            "Movies suggested for you based on 'Iron Man':\n",
            "\n",
            "1. Iron Man 2\n",
            "2. Iron Man 3\n",
            "3. Avengers: Age of Ultron\n",
            "4. The Avengers\n",
            "5. Captain America: Civil War\n",
            "6. Captain America: The Winter Soldier\n",
            "7. Ant-Man\n",
            "8. X-Men\n",
            "9. Made\n",
            "10. X-Men: Apocalypse\n"
          ]
        }
      ]
    }
  ]
}